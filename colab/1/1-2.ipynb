{
  "cells": [
    {
      "cell_type": "markdown",
      "metadata": {
        "id": "view-in-github",
        "colab_type": "text"
      },
      "source": [
        "<a href=\"https://colab.research.google.com/github/semichan/gitignore/blob/main/colab/1/1-2.ipynb\" target=\"_parent\"><img src=\"https://colab.research.google.com/assets/colab-badge.svg\" alt=\"Open In Colab\"/></a>"
      ]
    },
    {
      "cell_type": "markdown",
      "metadata": {
        "id": "zxwtQWVdOA7h"
      },
      "source": [
        "# 1-2. 変数と関数の基礎\n",
        "変数と関数の基礎について説明します。\n",
        "\n",
        "参考\n",
        "\n",
        "- https://docs.python.org/ja/3/tutorial/introduction.html#first-steps-towards-programming\n",
        "- https://docs.python.org/ja/3/tutorial/controlflow.html#defining-functions\n",
        "- https://docs.python.org/ja/3/library/functions.html#print"
      ]
    },
    {
      "cell_type": "markdown",
      "metadata": {
        "id": "uCEky7sUOA7i"
      },
      "source": [
        "## 変数\n",
        "プログラミング言語における**変数**とは、値に名前を付ける仕組みであり、名前はその値を指し示すことになります。"
      ]
    },
    {
      "cell_type": "code",
      "execution_count": 1,
      "metadata": {
        "id": "IRo-ojM2OA7i"
      },
      "outputs": [],
      "source": [
        "h = 188.0"
      ]
    },
    {
      "cell_type": "markdown",
      "metadata": {
        "id": "Jkeal1xROA7j"
      },
      "source": [
        "以上のように **`=`** を用いる構文によって、`188.0` という値に `h` という名前が付きます。これを**変数定義**と呼びます。\n",
        "\n",
        "定義された変数は、式の中で使うことができます。`h` という変数自体も式なので、`h` という式を評価することができ、変数が指し示す値が返ります。"
      ]
    },
    {
      "cell_type": "code",
      "execution_count": null,
      "metadata": {
        "id": "tPnOGnqwOA7j"
      },
      "outputs": [],
      "source": [
        "h"
      ]
    },
    {
      "cell_type": "markdown",
      "metadata": {
        "id": "pMVXsTouOA7j"
      },
      "source": [
        "異なる変数は、いくらでも導入できます。たとえば、以下では `w` を変数定義します。"
      ]
    },
    {
      "cell_type": "code",
      "execution_count": null,
      "metadata": {
        "id": "n_oC8zh0OA7k"
      },
      "outputs": [],
      "source": [
        "w = 104.0"
      ]
    },
    {
      "cell_type": "markdown",
      "metadata": {
        "id": "XbSapmWvOA7k"
      },
      "source": [
        "ここで、`h` を身長 (cm)、`w` を体重 (kg) の意味と考えると、次の式によってBMI（ボディマス指数）を計算できます。"
      ]
    },
    {
      "cell_type": "code",
      "execution_count": 2,
      "metadata": {
        "colab": {
          "base_uri": "https://localhost:8080/",
          "height": 147
        },
        "id": "gH_6fPAYOA7k",
        "outputId": "18710b3f-8311-469b-a7df-ae6aa201a759"
      },
      "outputs": [
        {
          "output_type": "error",
          "ename": "NameError",
          "evalue": "name 'w' is not defined",
          "traceback": [
            "\u001b[0;31m---------------------------------------------------------------------------\u001b[0m",
            "\u001b[0;31mNameError\u001b[0m                                 Traceback (most recent call last)",
            "\u001b[0;32m/tmp/ipython-input-335001835.py\u001b[0m in \u001b[0;36m<cell line: 0>\u001b[0;34m()\u001b[0m\n\u001b[0;32m----> 1\u001b[0;31m \u001b[0mw\u001b[0m \u001b[0;34m/\u001b[0m \u001b[0;34m(\u001b[0m\u001b[0mh\u001b[0m\u001b[0;34m/\u001b[0m\u001b[0;36m100.0\u001b[0m\u001b[0;34m)\u001b[0m \u001b[0;34m**\u001b[0m \u001b[0;36m2\u001b[0m\u001b[0;34m\u001b[0m\u001b[0;34m\u001b[0m\u001b[0m\n\u001b[0m",
            "\u001b[0;31mNameError\u001b[0m: name 'w' is not defined"
          ]
        }
      ],
      "source": [
        "w / (h/100.0) ** 2"
      ]
    },
    {
      "cell_type": "markdown",
      "metadata": {
        "id": "gaBv8E5EOA7k"
      },
      "source": [
        "なお、演算子 `**` の方が `/` よりも先に評価されることに注意してください。"
      ]
    },
    {
      "cell_type": "markdown",
      "metadata": {
        "id": "DXZkecxSOA7k"
      },
      "source": [
        "変数という名前の通り、変数が指し示す値を変えることもできます。"
      ]
    },
    {
      "cell_type": "code",
      "execution_count": 3,
      "metadata": {
        "id": "vmsGAm1sOA7l"
      },
      "outputs": [],
      "source": [
        "w = 104.0-10"
      ]
    },
    {
      "cell_type": "markdown",
      "metadata": {
        "id": "vlqLe0nKOA7l"
      },
      "source": [
        "このように変数を再定義すれば、元々 `w` が指し示していた値 `104.0` を忘れて、新たな値 `94.0` を指し示すようになります。\n",
        "この後で、前と同じBMIの式を評価してみると、`w` の値の変化に応じて、BMIの計算結果は変わります。"
      ]
    },
    {
      "cell_type": "code",
      "execution_count": 8,
      "metadata": {
        "colab": {
          "base_uri": "https://localhost:8080/"
        },
        "id": "eY-EE8CaOA7l",
        "outputId": "f06dbf21-d6ff-4690-db1e-a924a4fa6198"
      },
      "outputs": [
        {
          "output_type": "execute_result",
          "data": {
            "text/plain": [
              "23.766410140334994"
            ]
          },
          "metadata": {},
          "execution_count": 8
        }
      ],
      "source": [
        "w / (h/100.0) ** 2"
      ]
    },
    {
      "cell_type": "markdown",
      "metadata": {
        "id": "-7NvPbZCOA7l"
      },
      "source": [
        "なお、未定義の変数（たとえば `BMI`）を式の中で用いると、次のようにエラーが生じます。\n",
        "\n",
        "```\n",
        "---------------------------------------------------------------------------\n",
        "NameError                                 Traceback (most recent call last)\n",
        "<ipython-input-1-b910749d4383> in <module>\n",
        "----> 1 BMI  # 未定義の変数\n",
        "\n",
        "NameError: name 'BMI' is not defined\n",
        "```\n",
        "\n",
        "次のセルの行頭にある `#` を削除して実行してみましょう。"
      ]
    },
    {
      "cell_type": "code",
      "execution_count": 4,
      "metadata": {
        "colab": {
          "base_uri": "https://localhost:8080/",
          "height": 147
        },
        "id": "hynrgZVwOA7l",
        "outputId": "a61c9926-56a5-4368-e17e-a5274dbe234b"
      },
      "outputs": [
        {
          "output_type": "error",
          "ename": "NameError",
          "evalue": "name 'BMI' is not defined",
          "traceback": [
            "\u001b[0;31m---------------------------------------------------------------------------\u001b[0m",
            "\u001b[0;31mNameError\u001b[0m                                 Traceback (most recent call last)",
            "\u001b[0;32m/tmp/ipython-input-2570011175.py\u001b[0m in \u001b[0;36m<cell line: 0>\u001b[0;34m()\u001b[0m\n\u001b[0;32m----> 1\u001b[0;31m \u001b[0mBMI\u001b[0m  \u001b[0;31m# 未定義の変数\u001b[0m\u001b[0;34m\u001b[0m\u001b[0;34m\u001b[0m\u001b[0m\n\u001b[0m",
            "\u001b[0;31mNameError\u001b[0m: name 'BMI' is not defined"
          ]
        }
      ],
      "source": [
        " BMI  # 未定義の変数"
      ]
    },
    {
      "cell_type": "markdown",
      "metadata": {
        "id": "T3MWfgY4OA7l"
      },
      "source": [
        "以降では、単純のため、変数が指し示す値を、変数の値として説明していきます。"
      ]
    },
    {
      "cell_type": "markdown",
      "metadata": {
        "id": "TKPrn5WYOA7l"
      },
      "source": [
        "### 代入文\n",
        "変数定義に用いた **`=`** による構文を、Pythonでは**代入文** (**assignment statement**) と呼びます。\n",
        "そして、代入文を実行することを**代入** (**assignment**) と言います。\n",
        "代入文は、`=` の左辺に右辺の式の評価結果の値を割り当てる文です。\n",
        "上記の例のように、左辺が変数の場合には、代入文は変数定義と解釈されます。\n",
        "\n",
        "代入文は、右辺を評価した後に左辺に割り当てるという順番に従います。右辺に出現する変数が左辺に出て来てもかまいません。"
      ]
    },
    {
      "cell_type": "code",
      "execution_count": 5,
      "metadata": {
        "id": "PM9rRiPgOA7l"
      },
      "outputs": [],
      "source": [
        "w = w-10"
      ]
    },
    {
      "cell_type": "markdown",
      "metadata": {
        "id": "No1SIAEFOA7m"
      },
      "source": [
        "上の代入文は、`w` の値を `10` 減らす操作となります。`=` は数学的な等号ではないことに注意してください。\n",
        "\n",
        "もう一度BMIを計算してみると、`w` の値が減ったことで、先と結果が変わります。"
      ]
    },
    {
      "cell_type": "code",
      "execution_count": 7,
      "metadata": {
        "colab": {
          "base_uri": "https://localhost:8080/"
        },
        "id": "n10dn6AIOA7m",
        "outputId": "d4291892-36da-4c2f-acc3-16be220c0d14"
      },
      "outputs": [
        {
          "output_type": "execute_result",
          "data": {
            "text/plain": [
              "23.766410140334994"
            ]
          },
          "metadata": {},
          "execution_count": 7
        }
      ],
      "source": [
        "w / (h/100.0) ** 2"
      ]
    },
    {
      "cell_type": "markdown",
      "metadata": {
        "id": "3x0V660wOA7m"
      },
      "source": [
        "***注意***： 数学における代入は、substitution（置換）であり、プログラミング言語における代入 (assignment) とは異なります。代入という単語よりも、assignment（割り当て）という単語で概念を覚えましょう。"
      ]
    },
    {
      "cell_type": "markdown",
      "metadata": {
        "id": "3JufdJGhOA7m"
      },
      "source": [
        "### 累積代入文\n",
        "上の例のように変数の値を減らす操作は、次のような**累算代入文** (**augmented assignment statement**) を使って簡潔に記述することができます。"
      ]
    },
    {
      "cell_type": "code",
      "execution_count": null,
      "metadata": {
        "id": "cFlXLZ39OA7m"
      },
      "outputs": [],
      "source": [
        "w -= 10"
      ]
    },
    {
      "cell_type": "markdown",
      "metadata": {
        "id": "CfiBDU6QOA7m"
      },
      "source": [
        "ここで、**`-=`** という演算子は、`-` と `=` を結合させた演算子で、`w = w - 10` という代入文と同じ意味になります。\n",
        "これは代入文と2項演算が複合したものであり、`-` に限らず、他の2項演算についても同様に複合した累算代入文が利用できます。たとえば、変数の値を増やすには **`+=`** という演算子を用いることができます。"
      ]
    },
    {
      "cell_type": "code",
      "execution_count": null,
      "metadata": {
        "id": "tXlw6RWVOA7m"
      },
      "outputs": [],
      "source": [
        "w += 10"
      ]
    },
    {
      "cell_type": "markdown",
      "metadata": {
        "id": "yQ4DSj0IOA7m"
      },
      "source": [
        "`=` も含めて、これらの演算子は**代入演算子**と呼ばれています。代入演算子によって変数の値がどのように変わるか、確かめてください。"
      ]
    },
    {
      "cell_type": "code",
      "execution_count": 13,
      "metadata": {
        "colab": {
          "base_uri": "https://localhost:8080/"
        },
        "id": "Cm_wmBI5OA7m",
        "outputId": "97d036e7-891d-45e9-a2d2-524a4a7c5041"
      },
      "outputs": [
        {
          "output_type": "execute_result",
          "data": {
            "text/plain": [
              "110"
            ]
          },
          "metadata": {},
          "execution_count": 13
        }
      ],
      "source": [
        "w = 100\n",
        "w +=10\n",
        "w"
      ]
    },
    {
      "cell_type": "markdown",
      "metadata": {
        "id": "fnZx3Su5OA7m"
      },
      "source": [
        "## 関数の定義と返値\n",
        "前述のように、変数の値が変わるたびにBMIの式を入力するのは面倒です。以下では、身長 `height` と体重 `weight` をもらって、BMIを計算する**関数** `bmi` を定義してみましょう。関数を定義すると、BMIの式の再入力を省けて便利です。\n",
        "\n",
        "次のような形式で、**関数定義**を記述できます。\n",
        "\n",
        "関数定義など、複数行のコードセルには、**行番号**を振るのがよいかもしれません。行番号を振るかどうかは、コマンドモードでエルの文字（大文字でも小文字でもよいです）を入力することによって、スイッチできます。行番号があるかないかは、コードの実行には影響しません。"
      ]
    },
    {
      "cell_type": "code",
      "execution_count": 14,
      "metadata": {
        "id": "mOcCoE20OA7m"
      },
      "outputs": [],
      "source": [
        "def bmi(height, weight):\n",
        "    return weight / (height/100.0) ** 2"
      ]
    },
    {
      "cell_type": "markdown",
      "metadata": {
        "id": "ehqRHN7AOA7n"
      },
      "source": [
        "Python では、**関数定義**は、上のような形をしています。\n",
        "最初の行は以下のように **`def`** で始まります。\n",
        "\n",
        "------\n",
        "```Python\n",
        "    def 関数名(引数, ...):\n",
        "```\n",
        "------\n",
        "**引数**（ひきすう）とは、関数が受け取る値を指し示す変数のことです。**仮引数**（かりひきすう）ともいいます。"
      ]
    },
    {
      "cell_type": "markdown",
      "metadata": {
        "id": "MYOv3Jf1OA7n"
      },
      "source": [
        "`:` 以降は関数定義の本体であり、関数の処理を記述する部分として以下の構文が続きます。\n",
        "\n",
        "------\n",
        "```Python\n",
        "    return 式\n",
        "```\n",
        "------   \n",
        "\n",
        "この構文は **`return`** で始まり、**return文**と呼ばれます。return文は、`return` に続く式の評価結果を、関数の呼び出し元に返して（これを**返値**と言います）、関数を終了するという意味を持ちます。この関数を、入力となる引数とともに呼び出すと、`return` の後の式の評価結果を返値として返します。\n",
        "\n",
        "\n",
        "ここで、Pythonでは、\n",
        "`return` の前に空白が入ることに注意してください。\n",
        "このような行頭の空白を**インデント**と呼びます。\n",
        "Pythonでは、インデントの量によって、\n",
        "構文の**入れ子**を制御するようになっています。このことについては、\n",
        "より複雑な構文が出てきたときに説明しましょう。\n",
        "\n",
        "\n",
        "上記では、`def` の後に続く `bmi` が関数名です。それに続く括弧の中に書かれた `height` と `weight` は、**引数**です。また、`return` の後にBMIの計算式を記述しているので、関数の呼び出し元にはBMIの計算結果が返値として返ります。\n",
        "\n",
        "\n",
        "では、定義した関数 `bmi` を呼び出してみましょう。"
      ]
    },
    {
      "cell_type": "code",
      "execution_count": 15,
      "metadata": {
        "colab": {
          "base_uri": "https://localhost:8080/"
        },
        "id": "MVEC1BmSOA7n",
        "outputId": "54c73af7-405f-4afd-ca79-299ea9e0b0d8"
      },
      "outputs": [
        {
          "output_type": "execute_result",
          "data": {
            "text/plain": [
              "29.425079221367138"
            ]
          },
          "metadata": {},
          "execution_count": 15
        }
      ],
      "source": [
        "bmi(188.0,104.0)"
      ]
    },
    {
      "cell_type": "markdown",
      "metadata": {
        "id": "NH_wh41VOA7n"
      },
      "source": [
        "第1引数を身長（cm）、第2引数を体重（kg）としたときのBMIが計算されていることがわかります。\n",
        "\n",
        "関数呼び出しは演算式の一種なので、引数の位置には任意の式を記述できますし、\n",
        "関数呼び出し自体も式の中に記述できます。"
      ]
    },
    {
      "cell_type": "code",
      "execution_count": 16,
      "metadata": {
        "colab": {
          "base_uri": "https://localhost:8080/"
        },
        "id": "iR1N49SfOA7n",
        "outputId": "211bc3dd-5d84-44a2-cdbc-943250df1065"
      },
      "outputs": [
        {
          "output_type": "execute_result",
          "data": {
            "text/plain": [
              "19.628947020742505"
            ]
          },
          "metadata": {},
          "execution_count": 16
        }
      ],
      "source": [
        "1.1*bmi(174.0, 119.0 * 0.454)"
      ]
    },
    {
      "cell_type": "markdown",
      "metadata": {
        "id": "UPzGXWZIOA7n"
      },
      "source": [
        "もう1つ関数を定義してみましょう。"
      ]
    },
    {
      "cell_type": "code",
      "execution_count": 20,
      "metadata": {
        "id": "mYseyMQ3OA7n"
      },
      "outputs": [],
      "source": [
        "def felt_air_temperature(temperature, humidity):\n",
        "    return temperature - 1 / 2.3 * (temperature - 10) * (0.8 - humidity / 100)"
      ]
    },
    {
      "cell_type": "markdown",
      "metadata": {
        "id": "E9t3rsyAOA7n"
      },
      "source": [
        "この関数は、温度と湿度を入力として、体感温度を返します。\n",
        "このように、関数名や変数名には `_` (アンダースコア）を含めることができます。\n",
        "アンダースコアで始めることもできます。\n",
        "\n",
        "数字も関数名や変数名に含めることができますが、\n",
        "名前の最初に来てはいけません。"
      ]
    },
    {
      "cell_type": "code",
      "execution_count": 21,
      "metadata": {
        "colab": {
          "base_uri": "https://localhost:8080/"
        },
        "id": "aoPlYsmiOA7n",
        "outputId": "b33c4c7d-8d63-495b-f237-41d8f5b04bcc"
      },
      "outputs": [
        {
          "output_type": "execute_result",
          "data": {
            "text/plain": [
              "25.652173913043477"
            ]
          },
          "metadata": {},
          "execution_count": 21
        }
      ],
      "source": [
        "felt_air_temperature(28, 50)"
      ]
    },
    {
      "cell_type": "markdown",
      "metadata": {
        "id": "082KPCoYOA7q"
      },
      "source": [
        "なお、`return` の後に式を書かないと、何も返されなかったことを表現するために、「何もない」ことを表す **`None`** という特別な値が返ります。\n",
        "（`None` という値は色々なところで現れることでしょう。）\n",
        "\n",
        "return文に到達せずに関数定義本体の最後まで行ってしまったときも、`None` という値が返ります。"
      ]
    },
    {
      "cell_type": "markdown",
      "metadata": {
        "id": "LyNOV87sOA7r"
      },
      "source": [
        "### 予約語\n",
        "Pythonでの `def` や `return` は、関数定義やreturn文の始まりを記述するための特別な記号であり、それ以外の用途に用いることができません。\n",
        "このように構文上で役割が予約されている語は、**予約語**と呼ばれます。\n",
        "Codeセルの構文ハイライトで（太字緑色などで）強調されるものが予約語だと覚えておけば大体問題ありません。"
      ]
    },
    {
      "cell_type": "markdown",
      "metadata": {
        "id": "ViGz2tiEOA7r"
      },
      "source": [
        "### 練習 `ft_to_cm`\n",
        "\n",
        "`f` フィート `i` インチをセンチメートルに変換する関数 `ft_to_cm(f,i)` を定義してください。\n",
        "ただし、1 フィート = 12 インチ = 30.48 cm としてよい。"
      ]
    },
    {
      "cell_type": "code",
      "execution_count": 27,
      "metadata": {
        "id": "0p5ILCDmOA7r"
      },
      "outputs": [],
      "source": [
        "def ft_to_cm(f, i):\n",
        "    return f*30.48 + (i/12)*30.48"
      ]
    },
    {
      "cell_type": "markdown",
      "metadata": {
        "id": "voFL32EWOA7r"
      },
      "source": [
        "定義ができたら、次のセルを実行して、エラーがでないことを確認してください。"
      ]
    },
    {
      "cell_type": "code",
      "execution_count": 28,
      "metadata": {
        "tags": [
          "raises-exception"
        ],
        "id": "sCU0Up7KOA7r"
      },
      "outputs": [],
      "source": [
        "assert round(ft_to_cm(5, 2) - 157.48, 6) == 0\n",
        "assert round(ft_to_cm(6, 5) - 195.58, 6) == 0"
      ]
    },
    {
      "cell_type": "markdown",
      "metadata": {
        "id": "VDDLCCfEOA7r"
      },
      "source": [
        "### 練習 `quadratic`\n",
        "\n",
        "二次関数 $f(x) = ax^2+bx+c$ の値を求める `quadratic(a,b,c,x)` を定義してください。"
      ]
    },
    {
      "cell_type": "code",
      "execution_count": 31,
      "metadata": {
        "id": "mf-1R9BMOA7r"
      },
      "outputs": [],
      "source": [
        "def quadratic(a, b, c, x):\n",
        "    return a*x**2 + b*x + c"
      ]
    },
    {
      "cell_type": "markdown",
      "metadata": {
        "id": "O9IdkLGOOA7r"
      },
      "source": [
        "定義ができたら、次のセルを実行して、エラーがでないことを確認してください。"
      ]
    },
    {
      "cell_type": "code",
      "execution_count": 32,
      "metadata": {
        "id": "zCfgNyhhOA7r"
      },
      "outputs": [],
      "source": [
        "assert quadratic(1, 2, 1, 3) == 16\n",
        "assert quadratic(1, -5, -2, 7) == 12"
      ]
    },
    {
      "cell_type": "markdown",
      "metadata": {
        "id": "2gW7ohA7OA7r"
      },
      "source": [
        "## ローカル変数\n",
        "次の関数は、ヘロンの公式によって、\n",
        "与えられた三辺の長さに対して三角形の面積を返すものです。"
      ]
    },
    {
      "cell_type": "code",
      "execution_count": 33,
      "metadata": {
        "id": "hmhh7kkzOA7r"
      },
      "outputs": [],
      "source": [
        "import math\n",
        "\n",
        "def heron(a,b,c):\n",
        "    s = 0.5*(a+b+c)\n",
        "    return math.sqrt(s * (s-a) * (s-b) * (s-c))"
      ]
    },
    {
      "cell_type": "markdown",
      "metadata": {
        "id": "ROqso4YsOA7s"
      },
      "source": [
        "`math.sqrt` を使うために `import math` を行っています。"
      ]
    },
    {
      "cell_type": "markdown",
      "metadata": {
        "id": "JPFeoGANOA7s"
      },
      "source": [
        "次の式を評価してみましょう。"
      ]
    },
    {
      "cell_type": "code",
      "execution_count": 34,
      "metadata": {
        "colab": {
          "base_uri": "https://localhost:8080/"
        },
        "id": "oLN3e-w2OA7s",
        "outputId": "451cdef2-4171-4571-facd-f055df2a0f9f"
      },
      "outputs": [
        {
          "output_type": "execute_result",
          "data": {
            "text/plain": [
              "6.0"
            ]
          },
          "metadata": {},
          "execution_count": 34
        }
      ],
      "source": [
        "heron(3,4,5)"
      ]
    },
    {
      "cell_type": "markdown",
      "metadata": {
        "id": "bNA4q283OA7s"
      },
      "source": [
        "この関数の中では、まず、3辺の長さを足して 2 で割った（0.5 を掛けた）値を求めています。\n",
        "そして、その値を `s` という変数に代入しています。\n",
        "この `s` という変数は、この関数の中で代入されているので、この関数の中だけで利用可能な変数となります。\n",
        "そのような変数を**ローカル変数**と呼びます。\n",
        "\n",
        "そして、`s` を使った式が計算されてreturn文で返されます。\n",
        "ここで、関数定義のひとまとまりの本体であることを表すために、`s` への代入文もreturn文も、同じ深さでインデントされていることに注意してください。"
      ]
    },
    {
      "cell_type": "markdown",
      "metadata": {
        "id": "P5DXlEkPOA7s"
      },
      "source": [
        "Pythonでは、関数の中で定義された変数は、その関数のローカル変数となります。関数の引数もローカル変数です。関数の外で同じ名前の変数を使っても、それは関数のローカル変数とは「別もの」と考えられます。"
      ]
    },
    {
      "cell_type": "markdown",
      "metadata": {
        "id": "7Jwc8UwsOA7s"
      },
      "source": [
        "`heron` を呼び出した後で、関数の外で `s` の値を参照しても、以下のように、`s` が未定義という扱いになります。"
      ]
    },
    {
      "cell_type": "code",
      "execution_count": 35,
      "metadata": {
        "tags": [
          "raises-exception"
        ],
        "colab": {
          "base_uri": "https://localhost:8080/",
          "height": 147
        },
        "id": "_1zVEAcoOA7s",
        "outputId": "043904f0-6420-456c-e992-2f4e0c84c3eb"
      },
      "outputs": [
        {
          "output_type": "error",
          "ename": "NameError",
          "evalue": "name 's' is not defined",
          "traceback": [
            "\u001b[0;31m---------------------------------------------------------------------------\u001b[0m",
            "\u001b[0;31mNameError\u001b[0m                                 Traceback (most recent call last)",
            "\u001b[0;32m/tmp/ipython-input-1028141915.py\u001b[0m in \u001b[0;36m<cell line: 0>\u001b[0;34m()\u001b[0m\n\u001b[0;32m----> 1\u001b[0;31m \u001b[0ms\u001b[0m\u001b[0;34m\u001b[0m\u001b[0;34m\u001b[0m\u001b[0m\n\u001b[0m",
            "\u001b[0;31mNameError\u001b[0m: name 's' is not defined"
          ]
        }
      ],
      "source": [
        "s"
      ]
    },
    {
      "cell_type": "markdown",
      "metadata": {
        "id": "L1klJSTuOA7s"
      },
      "source": [
        "以下では、`heron` の中では、`s` というローカル変数の値は 3 になりますが、関数の外では、`s` という変数は別もので、その値はずっと `100` です。"
      ]
    },
    {
      "cell_type": "code",
      "execution_count": 36,
      "metadata": {
        "colab": {
          "base_uri": "https://localhost:8080/"
        },
        "id": "47ZLBlGHOA7s",
        "outputId": "bdd83873-ca0d-4f8c-e55f-556ad9658d9c"
      },
      "outputs": [
        {
          "output_type": "execute_result",
          "data": {
            "text/plain": [
              "6.0"
            ]
          },
          "metadata": {},
          "execution_count": 36
        }
      ],
      "source": [
        "s = 100\n",
        "heron(3,4,5)"
      ]
    },
    {
      "cell_type": "code",
      "execution_count": 37,
      "metadata": {
        "colab": {
          "base_uri": "https://localhost:8080/"
        },
        "id": "-sJsX7sLOA7s",
        "outputId": "4bccace1-df2f-4db1-b80e-0d4da06ec118"
      },
      "outputs": [
        {
          "output_type": "execute_result",
          "data": {
            "text/plain": [
              "100"
            ]
          },
          "metadata": {},
          "execution_count": 37
        }
      ],
      "source": [
        "s"
      ]
    },
    {
      "cell_type": "markdown",
      "metadata": {
        "id": "zhSnLImsOA7s"
      },
      "source": [
        "## `print`\n",
        "上の例で、ローカル変数は関数の返値を計算するのに使われますが、それが定義されている関数の外からは参照することができません。\n",
        "\n",
        "ローカル変数の値など、関数の実行途中の状況を確認するには、 **`print`** というPythonが最初から用意してくれている関数（**組み込み関数**）を用いることができます。この `print` を関数内から呼び出すことでローカル変数の値を確認できます。\n",
        "\n",
        "`print` は任意個の引数を取ることができ、コンマ `,` の区切りには空白文字が出力されます。引数を与えずに呼び出した場合には、改行のみを出力します。"
      ]
    },
    {
      "cell_type": "code",
      "execution_count": 38,
      "metadata": {
        "id": "D4NkQc7zOA7t"
      },
      "outputs": [],
      "source": [
        "def heron(a,b,c):\n",
        "    s = 0.5*(a+b+c)\n",
        "    print('The value of s is', s)\n",
        "    return math.sqrt(s * (s-a) * (s-b) * (s-c))"
      ]
    },
    {
      "cell_type": "code",
      "execution_count": 39,
      "metadata": {
        "colab": {
          "base_uri": "https://localhost:8080/"
        },
        "id": "v3u0a239OA7t",
        "outputId": "ec1075b0-44d8-423d-e124-dc404fa8e6db"
      },
      "outputs": [
        {
          "output_type": "stream",
          "name": "stdout",
          "text": [
            "The value of s is 1.5\n"
          ]
        },
        {
          "output_type": "execute_result",
          "data": {
            "text/plain": [
              "0.4330127018922193"
            ]
          },
          "metadata": {},
          "execution_count": 39
        }
      ],
      "source": [
        "heron(1,1,1)"
      ]
    },
    {
      "cell_type": "markdown",
      "metadata": {
        "id": "1LmOsTieOA7t"
      },
      "source": [
        "このように `print` 関数を用いて変数の値を観察することは、プログラムの誤り（**バグ**）を見つけ、修正（**デバッグ**）する最も基本的な方法です。これは1-4でも改めて説明します。\n",
        "\n",
        "なお、以降の説明では、 `print` 関数を呼び出して値を出力することを「**印字**する」と表現します。"
      ]
    },
    {
      "cell_type": "markdown",
      "metadata": {
        "id": "g4aQ9q2xOA7t"
      },
      "source": [
        "## `print` と `return`\n",
        "関数が値を返すことを期待されている場合は、必ず `return` を使ってください。\n",
        "\n",
        "関数内で値を印字しても、関数の返値として利用することはできません。\n",
        "\n",
        "たとえば `heron` を以下のように定義すると、`heron(1,1,1) * 2` のような計算ができなくなります。\n",
        "\n",
        "---\n",
        "```Python\n",
        "def heron(a,b,c):\n",
        "    s = 0.5*(a+b+c)\n",
        "    print('The value of s is', s)\n",
        "    print(math.sqrt(s * (s-a) * (s-b) * (s-c)))\n",
        "```\n",
        "---\n",
        "\n",
        "なお、\n",
        "\n",
        "```Python\n",
        "    return print(math.sqrt(s * (s-a) * (s-b) * (s-c)))\n",
        "```\n",
        "\n",
        "のように書いても駄目です。`print` 関数は `None` という値を返しますので、これでは関数は常に `None` という値を返してしまいます。"
      ]
    },
    {
      "cell_type": "markdown",
      "metadata": {
        "id": "FnbxNMtjOA7t"
      },
      "source": [
        "## コメントと空行\n",
        "**コメント**については既に説明しましたが、\n",
        "関数定義にはコメントを付加して、後から読んでもわかるようにしましょう。\n",
        "\n",
        "コメントだけの行は**空行**（空白のみから成る行）と同じに扱われます。\n",
        "\n",
        "関数定義の中に空行を自由に入れることができますので、\n",
        "長い関数定義には、区切りとなるところに空行を入れるのがよいでしょう。"
      ]
    },
    {
      "cell_type": "code",
      "execution_count": null,
      "metadata": {
        "id": "sDdLfTiNOA7t"
      },
      "outputs": [],
      "source": [
        "# heronの公式により三角形の面積を返す\n",
        "def heron(a,b,c): # a,b,c は三辺の長さ\n",
        "\n",
        "    # 辺の合計の半分をsに置く\n",
        "    s = 0.5*(a+b+c)\n",
        "    print('The value of s is', s)\n",
        "\n",
        "    return math.sqrt(s * (s-a) * (s-b) * (s-c))"
      ]
    },
    {
      "cell_type": "markdown",
      "metadata": {
        "id": "ifdEUs1FOA7t"
      },
      "source": [
        "## 関数の参照の書き方\n",
        "\n",
        "関数は、\n",
        "\n",
        "　　関数 `heron` は、三角形の三辺の長さをもらって三角形の面積を返します。\n",
        "    \n",
        "というように、名前だけで参照することもありますが、\n",
        "\n",
        "　　`heron(a,b,c)` は、三角形の三辺の長さ `a`, `b`, `c` をもらって三角形の面積を返します。\n",
        "\n",
        "というように、引数を明示して参照することもあります。\n",
        "\n",
        "ときには、\n",
        "\n",
        "　　`heron()` は三角形の面積を返します。\n",
        "    \n",
        "のように、関数名に `()` を付けて参照することがあります。\n",
        "この記法は、`heron` が関数であることを明示しています。\n",
        "\n",
        "関数には引数がゼロ個のものがあるのですが、`heron()` と参照するとき、\n",
        "`heron` は必ずしも引数の数がゼロ個ではないことに注意してください。\n",
        "\n",
        "後に学習するメソッドという関数の親戚に対しても同様の記法が用いられます。"
      ]
    },
    {
      "cell_type": "markdown",
      "metadata": {
        "id": "wr6TNsPAOA7t"
      },
      "source": [
        "### 練習 `qe_disc` `qe_solution1` `qe_solution1`\n",
        "\n",
        "二次方程式 $ax^2 + bx + c = 0$ に関して以下のような関数を定義してください。\n",
        "\n",
        "1. 判別式 $b^2 - 4ac$ を求める `qe_disc(a,b,c)`\n",
        "2. 解のうち、大きくない方を求める `qe_solution1(a,b,c)`\n",
        "3. 解のうち、小さくない方を求める `qe_solution2(a,b,c)`\n",
        "\n",
        "ただし、`qe_solution1` と `qe_solution2` は `qe_disc` を使って定義してください。\n",
        "二次方程式が実数解を持つと仮定してよいです。"
      ]
    },
    {
      "cell_type": "code",
      "execution_count": 40,
      "metadata": {
        "id": "AqERRS19OA7t"
      },
      "outputs": [],
      "source": [
        "import math\n",
        "\n",
        "def qe_disc(a, b, c):\n",
        "    return b**2 - 4*a*c\n",
        "\n",
        "def qe_solution1(a, b, c):\n",
        "    return (-b - math.sqrt(qe_disc(a, b, c))) / (2*a)\n",
        "\n",
        "def qe_solution2(a, b, c):\n",
        "    return (-b + math.sqrt(qe_disc(a, b, c))) / (2*a)"
      ]
    },
    {
      "cell_type": "markdown",
      "metadata": {
        "id": "nX8v7pcJOA7u"
      },
      "source": [
        "定義ができたら、次のセルを実行して、エラーがでないことを確認してください。"
      ]
    },
    {
      "cell_type": "code",
      "execution_count": 41,
      "metadata": {
        "tags": [
          "raises-exception"
        ],
        "id": "Mo_JwrJIOA7u"
      },
      "outputs": [],
      "source": [
        "assert qe_disc(1, -2, 1) == 0\n",
        "assert qe_disc(1, -5, 6) == 1\n",
        "assert round(qe_solution1(1, -2, 1) - 1, 6) == 0\n",
        "assert round(qe_solution2(1, -2, 1) - 1, 6) == 0\n",
        "assert round(qe_solution1(1, -5, 6) - 2, 6) == 0\n",
        "assert round(qe_solution2(1, -5, 6) - 3, 6) == 0"
      ]
    },
    {
      "cell_type": "markdown",
      "source": [
        "解の公式\n",
        "ax**2 + bx + c\n",
        "\n",
        "x = (-b±√b**2 - 4ac)/2a"
      ],
      "metadata": {
        "id": "gMe9ISpYTkEx"
      }
    },
    {
      "cell_type": "markdown",
      "metadata": {
        "id": "9SXzKN1AOA7u"
      },
      "source": [
        "## ▲グローバル変数\n",
        "\n",
        "Pythonでは、関数の中で代入が行われない変数は、グローバル変数とみなされます。\n",
        "\n",
        "**グローバル変数**とは、関数の外（**トップレベル**もしくは**モジュールレベル**と呼ばれます）で定義される変数のことです。\n",
        "\n",
        "グローバル変数は、関数の中から参照することができます。"
      ]
    },
    {
      "cell_type": "code",
      "execution_count": 42,
      "metadata": {
        "id": "dH-D7Wh8OA7u"
      },
      "outputs": [],
      "source": [
        "g = 9.8"
      ]
    },
    {
      "cell_type": "code",
      "execution_count": 43,
      "metadata": {
        "id": "6C3nBAy2OA7u"
      },
      "outputs": [],
      "source": [
        "def force(m):\n",
        "    return m*g"
      ]
    },
    {
      "cell_type": "markdown",
      "metadata": {
        "id": "Rhhx5hhjOA7u"
      },
      "source": [
        "以上のように `force` を定義すると、\n",
        "`force` の中で `g` というグローバル変数を参照することができます。"
      ]
    },
    {
      "cell_type": "code",
      "execution_count": 44,
      "metadata": {
        "colab": {
          "base_uri": "https://localhost:8080/"
        },
        "id": "XTvWztddOA7u",
        "outputId": "4c9dff26-7db2-4582-a697-44f8b8a7352f"
      },
      "outputs": [
        {
          "output_type": "execute_result",
          "data": {
            "text/plain": [
              "1019.2"
            ]
          },
          "metadata": {},
          "execution_count": 44
        }
      ],
      "source": [
        "force(104)"
      ]
    },
    {
      "cell_type": "code",
      "execution_count": 45,
      "metadata": {
        "id": "0hsvaHOUOA7u"
      },
      "outputs": [],
      "source": [
        "g = g/6"
      ]
    },
    {
      "cell_type": "markdown",
      "metadata": {
        "id": "kAdUK6mJOA7u"
      },
      "source": [
        "以上のように、`g` の値を変更してから `force` を実行すると、\n",
        "変更後の値が用いられます。"
      ]
    },
    {
      "cell_type": "code",
      "execution_count": 46,
      "metadata": {
        "colab": {
          "base_uri": "https://localhost:8080/"
        },
        "id": "1ET72esfOA7u",
        "outputId": "e545af54-fefa-48e6-d8ed-e82ac2589137"
      },
      "outputs": [
        {
          "output_type": "execute_result",
          "data": {
            "text/plain": [
              "169.86666666666667"
            ]
          },
          "metadata": {},
          "execution_count": 46
        }
      ],
      "source": [
        "force(104)"
      ]
    },
    {
      "cell_type": "markdown",
      "metadata": {
        "id": "5q1QMswAOA7v"
      },
      "source": [
        "以下はより簡単な例です。"
      ]
    },
    {
      "cell_type": "code",
      "execution_count": 47,
      "metadata": {
        "id": "dAGZgqKaOA7v"
      },
      "outputs": [],
      "source": [
        "a = 10\n",
        "def foo():\n",
        "    return a\n",
        "def bar():\n",
        "    a = 3\n",
        "    return a"
      ]
    },
    {
      "cell_type": "code",
      "execution_count": 48,
      "metadata": {
        "colab": {
          "base_uri": "https://localhost:8080/"
        },
        "id": "9hY9wTdBOA7v",
        "outputId": "2aaa4271-5348-4ca2-dfa8-825290d8dc0c"
      },
      "outputs": [
        {
          "output_type": "execute_result",
          "data": {
            "text/plain": [
              "10"
            ]
          },
          "metadata": {},
          "execution_count": 48
        }
      ],
      "source": [
        "foo()"
      ]
    },
    {
      "cell_type": "code",
      "execution_count": 49,
      "metadata": {
        "colab": {
          "base_uri": "https://localhost:8080/"
        },
        "id": "GhfuA-JGOA7v",
        "outputId": "27f380d2-d1ae-48be-e2ed-7451f0fbf389"
      },
      "outputs": [
        {
          "output_type": "execute_result",
          "data": {
            "text/plain": [
              "3"
            ]
          },
          "metadata": {},
          "execution_count": 49
        }
      ],
      "source": [
        "bar()"
      ]
    },
    {
      "cell_type": "code",
      "execution_count": 50,
      "metadata": {
        "colab": {
          "base_uri": "https://localhost:8080/"
        },
        "id": "6qDYzrHXOA7v",
        "outputId": "fb978836-deaa-4e32-8d20-2bf113c9eb5e"
      },
      "outputs": [
        {
          "output_type": "execute_result",
          "data": {
            "text/plain": [
              "10"
            ]
          },
          "metadata": {},
          "execution_count": 50
        }
      ],
      "source": [
        "a"
      ]
    },
    {
      "cell_type": "code",
      "execution_count": 51,
      "metadata": {
        "id": "OEcNwKnzOA7v"
      },
      "outputs": [],
      "source": [
        "a = 20"
      ]
    },
    {
      "cell_type": "code",
      "execution_count": 52,
      "metadata": {
        "colab": {
          "base_uri": "https://localhost:8080/"
        },
        "id": "I0nG3V8POA7v",
        "outputId": "3d02072f-124b-42fc-8974-2dd8d894a7d9"
      },
      "outputs": [
        {
          "output_type": "execute_result",
          "data": {
            "text/plain": [
              "20"
            ]
          },
          "metadata": {},
          "execution_count": 52
        }
      ],
      "source": [
        "foo()"
      ]
    },
    {
      "cell_type": "markdown",
      "metadata": {
        "id": "BtU3ShWuOA7v"
      },
      "source": [
        "`bar` の中では `a` への代入があるので、`a` はローカル変数になります。\n",
        "ローカル変数の `a` とグローバル変数の `a` は別ものと考えてください。\n",
        "ローカル変数 `a` への代入があっても、グローバル変数の `a` の値は変化しません。\n",
        "`foo` の中の `a` はグローバル変数です。"
      ]
    },
    {
      "cell_type": "code",
      "execution_count": 53,
      "metadata": {
        "id": "PC_MxB4aOA7v"
      },
      "outputs": [],
      "source": [
        "def boo(a):\n",
        "    return a"
      ]
    },
    {
      "cell_type": "code",
      "execution_count": 54,
      "metadata": {
        "colab": {
          "base_uri": "https://localhost:8080/"
        },
        "id": "ceyZpwYCOA7v",
        "outputId": "2a710520-3c28-485b-d9e9-b33ffb763d1f"
      },
      "outputs": [
        {
          "output_type": "execute_result",
          "data": {
            "text/plain": [
              "5"
            ]
          },
          "metadata": {},
          "execution_count": 54
        }
      ],
      "source": [
        "boo(5)"
      ]
    },
    {
      "cell_type": "code",
      "execution_count": 55,
      "metadata": {
        "colab": {
          "base_uri": "https://localhost:8080/"
        },
        "id": "iQ7Gzm_VOA7v",
        "outputId": "eaa0833d-2382-4c0f-e4f5-615363c5fbfb"
      },
      "outputs": [
        {
          "output_type": "execute_result",
          "data": {
            "text/plain": [
              "20"
            ]
          },
          "metadata": {},
          "execution_count": 55
        }
      ],
      "source": [
        "a"
      ]
    },
    {
      "cell_type": "markdown",
      "metadata": {
        "id": "i5sG4EsAOA7w"
      },
      "source": [
        "関数の引数もローカル変数の一種と考えられ、グローバル変数とは別ものです。"
      ]
    },
    {
      "cell_type": "markdown",
      "metadata": {
        "id": "nOp_joSMOA7w"
      },
      "source": [
        "## 練習の解答"
      ]
    },
    {
      "cell_type": "code",
      "execution_count": null,
      "metadata": {
        "id": "SFpK9qesOA7w"
      },
      "outputs": [],
      "source": [
        "def ft_to_cm(f, i):\n",
        "    return 30.48*f + (30.48/12)*i"
      ]
    },
    {
      "cell_type": "code",
      "execution_count": null,
      "metadata": {
        "id": "YR_E-hqoOA7w"
      },
      "outputs": [],
      "source": [
        "def quadratic(a, b, c, x):\n",
        "    return a*x*x + b*x + c"
      ]
    },
    {
      "cell_type": "code",
      "execution_count": null,
      "metadata": {
        "id": "VCfNbAVNOA7w"
      },
      "outputs": [],
      "source": [
        "import math\n",
        "\n",
        "def qe_disc(a, b, c):\n",
        "    return b*b - 4*a*c\n",
        "\n",
        "def qe_solution1(a, b, c):\n",
        "    return (-b - math.sqrt(qe_disc(a, b, c))) / (2*a)\n",
        "\n",
        "def qe_solution2(a, b, c):\n",
        "    return (-b + math.sqrt(qe_disc(a, b, c))) / (2*a)"
      ]
    }
  ],
  "metadata": {
    "kernelspec": {
      "display_name": "Python 3",
      "language": "python",
      "name": "python3"
    },
    "language_info": {
      "name": "python"
    },
    "colab": {
      "provenance": [],
      "include_colab_link": true
    }
  },
  "nbformat": 4,
  "nbformat_minor": 0
}